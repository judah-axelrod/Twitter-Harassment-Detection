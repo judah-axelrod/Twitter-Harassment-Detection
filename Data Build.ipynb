{
 "cells": [
  {
   "cell_type": "code",
   "execution_count": 1,
   "id": "linear-emperor",
   "metadata": {},
   "outputs": [],
   "source": [
    "import numpy as np\n",
    "import pandas as pd\n",
    "import matplotlib.pyplot as plt\n",
    "import nltk\n",
    "import re\n",
    "import string"
   ]
  },
  {
   "cell_type": "markdown",
   "id": "written-shakespeare",
   "metadata": {},
   "source": [
    "## Data Import and Cleaning"
   ]
  },
  {
   "cell_type": "code",
   "execution_count": 2,
   "id": "sought-mirror",
   "metadata": {},
   "outputs": [
    {
     "data": {
      "text/html": [
       "<div>\n",
       "<style scoped>\n",
       "    .dataframe tbody tr th:only-of-type {\n",
       "        vertical-align: middle;\n",
       "    }\n",
       "\n",
       "    .dataframe tbody tr th {\n",
       "        vertical-align: top;\n",
       "    }\n",
       "\n",
       "    .dataframe thead th {\n",
       "        text-align: right;\n",
       "    }\n",
       "</style>\n",
       "<table border=\"1\" class=\"dataframe\">\n",
       "  <thead>\n",
       "    <tr style=\"text-align: right;\">\n",
       "      <th></th>\n",
       "      <th>ID</th>\n",
       "      <th>Code</th>\n",
       "      <th>Tweet</th>\n",
       "    </tr>\n",
       "  </thead>\n",
       "  <tbody>\n",
       "    <tr>\n",
       "      <th>0</th>\n",
       "      <td>1</td>\n",
       "      <td>H</td>\n",
       "      <td>@Grumpy_P_Sloth @deanesmay feminists argue for...</td>\n",
       "    </tr>\n",
       "    <tr>\n",
       "      <th>1</th>\n",
       "      <td>2</td>\n",
       "      <td>H</td>\n",
       "      <td>1948Army of England helped the Jews to occupy ...</td>\n",
       "    </tr>\n",
       "    <tr>\n",
       "      <th>2</th>\n",
       "      <td>3</td>\n",
       "      <td>H</td>\n",
       "      <td>Dutch Leader Says Europe to collapse In 6 Week...</td>\n",
       "    </tr>\n",
       "    <tr>\n",
       "      <th>3</th>\n",
       "      <td>4</td>\n",
       "      <td>H</td>\n",
       "      <td>RT @__DeLay: The next day the Romans and the J...</td>\n",
       "    </tr>\n",
       "    <tr>\n",
       "      <th>4</th>\n",
       "      <td>5</td>\n",
       "      <td>H</td>\n",
       "      <td>RT @Bakersman_Joe: When Hitler Invited The Jew...</td>\n",
       "    </tr>\n",
       "  </tbody>\n",
       "</table>\n",
       "</div>"
      ],
      "text/plain": [
       "   ID Code                                              Tweet\n",
       "0   1    H  @Grumpy_P_Sloth @deanesmay feminists argue for...\n",
       "1   2    H  1948Army of England helped the Jews to occupy ...\n",
       "2   3    H  Dutch Leader Says Europe to collapse In 6 Week...\n",
       "3   4    H  RT @__DeLay: The next day the Romans and the J...\n",
       "4   5    H  RT @Bakersman_Joe: When Hitler Invited The Jew..."
      ]
     },
     "execution_count": 2,
     "metadata": {},
     "output_type": "execute_result"
    }
   ],
   "source": [
    "#Import Data\n",
    "duplicate_ids = np.load('duplicate_fuzzy_ids.npy')\n",
    "r_golbeck = pd.read_csv('Golbeck/onlineHarassmentDataset.tsv', delimiter='\\t', encoding='latin-1')\n",
    "r_golbeck.head()"
   ]
  },
  {
   "cell_type": "code",
   "execution_count": 3,
   "id": "independent-surgeon",
   "metadata": {},
   "outputs": [],
   "source": [
    "#Python version of Ruby preprocessing script accessible here: https://nlp.stanford.edu/projects/glove/preprocess-twitter.rb\n",
    "from preprocessTwitter import tokenize \n",
    "\n",
    "def clean_tweets(tweet):\n",
    "    '''\n",
    "    This function applies additional cleaning steps to the tweets \n",
    "    in order for the word embeddings to capture more semantic/syntactic information\n",
    "    '''\n",
    "    tweet = re.sub('^RT:? ','<rt> ',tweet) #Assign special char to RTs\n",
    "    tweet = re.sub('RT@','<rt> @',tweet) #Split out RT and user mention when overlapping\n",
    "    tweet = re.sub('via@','via @',tweet) #Split out 'via' and user mention when overlapping\n",
    "    tweet = re.sub(r'https?: ?/ ?/t(.co( )?)?/?[A-Za-z0-9é]*|https?:\\\\/\\\\/t.co\\\\/[A-Za-z0-9]*é?|https?(: / /)?é?', '<url>', tweet) #Assign special char to URLs (Python script missing some cases that I do not)\n",
    "    tweet = re.sub(r'<url>é|<url> ?\\.c[oé]*$', '<url>', tweet, flags=re.IGNORECASE) \n",
    "    tweet = re.sub(r\"'\", '', re.sub(r'\"', '', tweet)) #Get rid of single and double quotes (admittedly loses some context here)\n",
    "    tweet = re.sub('anti-', 'anti ', tweet, flags=re.IGNORECASE) #Capture 'anti' or 'non' prefix as its own word \n",
    "    tweet = re.sub('#anti', '#anti ', tweet, flags=re.IGNORECASE)\n",
    "    tweet = re.sub(' anti', ' anti ', tweet, flags=re.IGNORECASE)\n",
    "    tweet = re.sub('non-', 'non ', tweet, flags=re.IGNORECASE)\n",
    "    tweet = re.sub('&amp;?', '&', tweet, flags=re.IGNORECASE) #Put ampersand in recognizable format\n",
    "    #Clean some known hateful terms that are in the data (e.g. \"whitepower\") to extract meaning from hashtags\n",
    "    tweet = re.sub('#white', '#white ', tweet, flags=re.IGNORECASE)\n",
    "    tweet = re.sub('waronwhite', 'war on white', tweet, flags=re.IGNORECASE)\n",
    "    tweet = re.sub('whitegenocide', 'white genocide', tweet, flags = re.IGNORECASE)\n",
    "    tweet = re.sub('whitelivesmatter', 'white lives matter', tweet, flags = re.IGNORECASE)\n",
    "    tweet = re.sub('blacklivesmatter', 'black lives matter', tweet, flags = re.IGNORECASE)\n",
    "    tweet = re.sub('livesmatter', 'lives matter', tweet, flags = re.IGNORECASE)\n",
    "    tweet = re.sub('alllive', 'all live', tweet, flags = re.IGNORECASE)\n",
    "    tweet = re.sub('bluelive', 'blue live', tweet, flags = re.IGNORECASE)\n",
    "    tweet = re.sub('whitepower', 'white power', tweet, flags = re.IGNORECASE)\n",
    "    tweet = re.sub('#fuck', '#fuck ', tweet, flags=re.IGNORECASE)\n",
    "    tweet = re.sub('fuckniggers', 'fuck niggers', tweet, flags=re.IGNORECASE)\n",
    "    tweet = re.sub('sjw', 'social justice warrior', tweet, flags=re.IGNORECASE)\n",
    "    tweet = tweet.strip() #Strip whitespace\n",
    "    return tweet"
   ]
  },
  {
   "cell_type": "code",
   "execution_count": 4,
   "id": "acoustic-brick",
   "metadata": {},
   "outputs": [
    {
     "data": {
      "text/html": [
       "<div>\n",
       "<style scoped>\n",
       "    .dataframe tbody tr th:only-of-type {\n",
       "        vertical-align: middle;\n",
       "    }\n",
       "\n",
       "    .dataframe tbody tr th {\n",
       "        vertical-align: top;\n",
       "    }\n",
       "\n",
       "    .dataframe thead th {\n",
       "        text-align: right;\n",
       "    }\n",
       "</style>\n",
       "<table border=\"1\" class=\"dataframe\">\n",
       "  <thead>\n",
       "    <tr style=\"text-align: right;\">\n",
       "      <th></th>\n",
       "      <th>ID</th>\n",
       "      <th>Code</th>\n",
       "      <th>Tweet</th>\n",
       "      <th>clean_tweet</th>\n",
       "    </tr>\n",
       "  </thead>\n",
       "  <tbody>\n",
       "    <tr>\n",
       "      <th>0</th>\n",
       "      <td>1</td>\n",
       "      <td>H</td>\n",
       "      <td>@Grumpy_P_Sloth @deanesmay feminists argue for...</td>\n",
       "      <td>&lt;user&gt; &lt;user&gt; feminists argue for raising mini...</td>\n",
       "    </tr>\n",
       "    <tr>\n",
       "      <th>1</th>\n",
       "      <td>2</td>\n",
       "      <td>H</td>\n",
       "      <td>1948Army of England helped the Jews to occupy ...</td>\n",
       "      <td>&lt;number&gt;army of england helped the jews to occ...</td>\n",
       "    </tr>\n",
       "    <tr>\n",
       "      <th>2</th>\n",
       "      <td>3</td>\n",
       "      <td>H</td>\n",
       "      <td>Dutch Leader Says Europe to collapse In 6 Week...</td>\n",
       "      <td>dutch leader says europe to collapse in &lt;numbe...</td>\n",
       "    </tr>\n",
       "    <tr>\n",
       "      <th>3</th>\n",
       "      <td>4</td>\n",
       "      <td>H</td>\n",
       "      <td>RT @__DeLay: The next day the Romans and the J...</td>\n",
       "      <td>&lt;rt&gt; &lt;user&gt; : the next day the romans and the ...</td>\n",
       "    </tr>\n",
       "    <tr>\n",
       "      <th>4</th>\n",
       "      <td>5</td>\n",
       "      <td>H</td>\n",
       "      <td>RT @Bakersman_Joe: When Hitler Invited The Jew...</td>\n",
       "      <td>&lt;rt&gt; &lt;user&gt; : when hitler invited the jews to ...</td>\n",
       "    </tr>\n",
       "  </tbody>\n",
       "</table>\n",
       "</div>"
      ],
      "text/plain": [
       "   ID Code                                              Tweet  \\\n",
       "0   1    H  @Grumpy_P_Sloth @deanesmay feminists argue for...   \n",
       "1   2    H  1948Army of England helped the Jews to occupy ...   \n",
       "2   3    H  Dutch Leader Says Europe to collapse In 6 Week...   \n",
       "3   4    H  RT @__DeLay: The next day the Romans and the J...   \n",
       "4   5    H  RT @Bakersman_Joe: When Hitler Invited The Jew...   \n",
       "\n",
       "                                         clean_tweet  \n",
       "0  <user> <user> feminists argue for raising mini...  \n",
       "1  <number>army of england helped the jews to occ...  \n",
       "2  dutch leader says europe to collapse in <numbe...  \n",
       "3  <rt> <user> : the next day the romans and the ...  \n",
       "4  <rt> <user> : when hitler invited the jews to ...  "
      ]
     },
     "execution_count": 4,
     "metadata": {},
     "output_type": "execute_result"
    }
   ],
   "source": [
    "r_golbeck['clean_tweet'] = r_golbeck['Tweet'].apply(clean_tweets) #Apply my own cleaning steps\n",
    "r_golbeck['clean_tweet'] = r_golbeck['clean_tweet'].apply(tokenize) #Then apply the ones implemented in Ruby preprocessing script\n",
    "r_golbeck['clean_tweet'] = r_golbeck['clean_tweet'].apply(lambda x:re.sub('><', '> <', x)) #Finally, separate any special characters that are overlapping/touching\n",
    "r_golbeck.head()"
   ]
  },
  {
   "cell_type": "code",
   "execution_count": 5,
   "id": "apart-license",
   "metadata": {},
   "outputs": [
    {
     "data": {
      "text/plain": [
       "(19664, 4)"
      ]
     },
     "execution_count": 5,
     "metadata": {},
     "output_type": "execute_result"
    }
   ],
   "source": [
    "#Drop tweets that are actually multiple tweets in one (data entry errors in the underlying dataset I received from authors)\n",
    "indexes = []\n",
    "for i in range(len(r_golbeck['clean_tweet'])):\n",
    "  l = len(str.split(r_golbeck['clean_tweet'].iloc[i], ' '))\n",
    "  if l > 100:\n",
    "    indexes.append(i)\n",
    "\n",
    "r_golbeck.drop(indexes, axis=0, inplace=True)\n",
    "\n",
    "#Also drop tweets that are duplicates based on fuzzy matching exercise\n",
    "r_golbeck = r_golbeck[np.isin(r_golbeck['ID'], duplicate_ids, invert=True)]\n",
    "r_golbeck.shape"
   ]
  },
  {
   "cell_type": "markdown",
   "id": "flush-department",
   "metadata": {},
   "source": [
    "# BOW and Tf-Idf for Logistic Regression"
   ]
  },
  {
   "cell_type": "code",
   "execution_count": 6,
   "id": "hawaiian-viking",
   "metadata": {},
   "outputs": [
    {
     "name": "stderr",
     "output_type": "stream",
     "text": [
      "[nltk_data] Downloading package stopwords to\n",
      "[nltk_data]     /Users/judahaxelrod/nltk_data...\n",
      "[nltk_data]   Package stopwords is already up-to-date!\n"
     ]
    },
    {
     "data": {
      "text/html": [
       "<div>\n",
       "<style scoped>\n",
       "    .dataframe tbody tr th:only-of-type {\n",
       "        vertical-align: middle;\n",
       "    }\n",
       "\n",
       "    .dataframe tbody tr th {\n",
       "        vertical-align: top;\n",
       "    }\n",
       "\n",
       "    .dataframe thead th {\n",
       "        text-align: right;\n",
       "    }\n",
       "</style>\n",
       "<table border=\"1\" class=\"dataframe\">\n",
       "  <thead>\n",
       "    <tr style=\"text-align: right;\">\n",
       "      <th></th>\n",
       "      <th>ID</th>\n",
       "      <th>Code</th>\n",
       "      <th>Tweet</th>\n",
       "      <th>clean_tweet</th>\n",
       "      <th>tokens</th>\n",
       "    </tr>\n",
       "  </thead>\n",
       "  <tbody>\n",
       "    <tr>\n",
       "      <th>0</th>\n",
       "      <td>1</td>\n",
       "      <td>H</td>\n",
       "      <td>@Grumpy_P_Sloth @deanesmay feminists argue for...</td>\n",
       "      <td>&lt;user&gt; &lt;user&gt; feminists argue for raising mini...</td>\n",
       "      <td>[&lt;user&gt;, &lt;user&gt;, feminist, argu, for, rais, mi...</td>\n",
       "    </tr>\n",
       "    <tr>\n",
       "      <th>1</th>\n",
       "      <td>2</td>\n",
       "      <td>H</td>\n",
       "      <td>1948Army of England helped the Jews to occupy ...</td>\n",
       "      <td>&lt;number&gt;army of england helped the jews to occ...</td>\n",
       "      <td>[&lt;number&gt;armi, of, england, help, the, jew, to...</td>\n",
       "    </tr>\n",
       "    <tr>\n",
       "      <th>3</th>\n",
       "      <td>4</td>\n",
       "      <td>H</td>\n",
       "      <td>RT @__DeLay: The next day the Romans and the J...</td>\n",
       "      <td>&lt;rt&gt; &lt;user&gt; : the next day the romans and the ...</td>\n",
       "      <td>[&lt;rt&gt;, &lt;user&gt;, the, next, day, the, roman, and...</td>\n",
       "    </tr>\n",
       "    <tr>\n",
       "      <th>7</th>\n",
       "      <td>8</td>\n",
       "      <td>H</td>\n",
       "      <td>RT @CharlesFinch: \"The Jews were provided free...</td>\n",
       "      <td>&lt;rt&gt; &lt;user&gt; : the jews were provided free tran...</td>\n",
       "      <td>[&lt;rt&gt;, &lt;user&gt;, the, jew, were, provid, free, t...</td>\n",
       "    </tr>\n",
       "    <tr>\n",
       "      <th>9</th>\n",
       "      <td>10</td>\n",
       "      <td>H</td>\n",
       "      <td>RT @HeymanHustle: .. @MichelleDBeadle I can do...</td>\n",
       "      <td>&lt;rt&gt; &lt;user&gt; : . &lt;repeat&gt; &lt;user&gt; i can do news ...</td>\n",
       "      <td>[&lt;rt&gt;, &lt;user&gt;, &lt;repeat&gt;, &lt;user&gt;, i, can, do, n...</td>\n",
       "    </tr>\n",
       "  </tbody>\n",
       "</table>\n",
       "</div>"
      ],
      "text/plain": [
       "   ID Code                                              Tweet  \\\n",
       "0   1    H  @Grumpy_P_Sloth @deanesmay feminists argue for...   \n",
       "1   2    H  1948Army of England helped the Jews to occupy ...   \n",
       "3   4    H  RT @__DeLay: The next day the Romans and the J...   \n",
       "7   8    H  RT @CharlesFinch: \"The Jews were provided free...   \n",
       "9  10    H  RT @HeymanHustle: .. @MichelleDBeadle I can do...   \n",
       "\n",
       "                                         clean_tweet  \\\n",
       "0  <user> <user> feminists argue for raising mini...   \n",
       "1  <number>army of england helped the jews to occ...   \n",
       "3  <rt> <user> : the next day the romans and the ...   \n",
       "7  <rt> <user> : the jews were provided free tran...   \n",
       "9  <rt> <user> : . <repeat> <user> i can do news ...   \n",
       "\n",
       "                                              tokens  \n",
       "0  [<user>, <user>, feminist, argu, for, rais, mi...  \n",
       "1  [<number>armi, of, england, help, the, jew, to...  \n",
       "3  [<rt>, <user>, the, next, day, the, roman, and...  \n",
       "7  [<rt>, <user>, the, jew, were, provid, free, t...  \n",
       "9  [<rt>, <user>, <repeat>, <user>, i, can, do, n...  "
      ]
     },
     "execution_count": 6,
     "metadata": {},
     "output_type": "execute_result"
    }
   ],
   "source": [
    "from nltk.stem.snowball import SnowballStemmer\n",
    "nltk.download('stopwords')\n",
    "from nltk.corpus import stopwords\n",
    "\n",
    "stop = stopwords.words('english')\n",
    "snowball = SnowballStemmer('english') \n",
    "punct = [p for p in string.punctuation if p not in ['<','>']]\n",
    "\n",
    "def stem_no_punct(tweet):\n",
    "  tokens = nltk.regexp_tokenize(tweet, '\\S+') #Separate tweets into tokens\n",
    "  tokens = [snowball.stem(t) for t in tokens if t not in punct] #Apply stemming and remove punctuation\n",
    "  return tokens\n",
    "\n",
    "r_golbeck['tokens'] = r_golbeck['clean_tweet'].apply(stem_no_punct) #New column serves as data for Logistic Regression only\n",
    "r_golbeck.head()"
   ]
  },
  {
   "cell_type": "markdown",
   "id": "black-salvation",
   "metadata": {},
   "source": [
    "## Frequency Distribution for Stemmed Tokens"
   ]
  },
  {
   "cell_type": "code",
   "execution_count": 10,
   "id": "developmental-kelly",
   "metadata": {},
   "outputs": [
    {
     "data": {
      "image/png": "[encoded data removed]",
      "text/plain": [
       "<Figure size 1296x432 with 1 Axes>"
      ]
     },
     "metadata": {
      "needs_background": "light"
     },
     "output_type": "display_data"
    }
   ],
   "source": [
    "all_words = [token for tweet in r_golbeck['tokens']\n",
    "                  for token in tweet]\n",
    "fd = nltk.FreqDist(w for w in all_words if w not in stop)\n",
    "\n",
    "#Plot 50 most frequently occurring tokens\n",
    "fig = plt.figure(figsize=(18,6))\n",
    "fd.plot(50, title = '50 Most Common Tokens in Golbeck Twitter Harassment Dataset');\n",
    "fig.savefig('img/freq_dist.pdf', bbox_inches='tight')"
   ]
  },
  {
   "cell_type": "markdown",
   "id": "frank-centre",
   "metadata": {},
   "source": [
    "## Building Pre-Trained Word Embeddings\n",
    "Much of the code in this section is used directly from [this Keras tutorial](https://keras.io/examples/nlp/pretrained_word_embeddings/#load-pretrained-word-embeddings)"
   ]
  },
  {
   "cell_type": "code",
   "execution_count": 10,
   "id": "august-thesaurus",
   "metadata": {},
   "outputs": [
    {
     "data": {
      "text/plain": [
       "array([[ 35,  17,  15,   1, 414,   0,   0,   0,   0,   0,   0,   0,   0,\n",
       "          0,   0,   0,   0,   0,   0,   0,   0,   0,   0,   0,   0,   0,\n",
       "          0,   0,   0,   0,   0,   0,   0,   0,   0,   0,   0,   0,   0,\n",
       "          0,   0,   0,   0,   0,   0,   0,   0,   0,   0,   0,   0,   0,\n",
       "          0,   0,   0,   0,   0,   0,   0,   0]])"
      ]
     },
     "execution_count": 10,
     "metadata": {},
     "output_type": "execute_result"
    }
   ],
   "source": [
    "from tensorflow.keras.layers.experimental.preprocessing import TextVectorization\n",
    "#Build a vectorizer that considers the top 20,000 tokens in the dataset\n",
    "vectorizer = TextVectorization(max_tokens=20000, output_sequence_length=60, standardize=None)\n",
    "\n",
    "tweets = tf.data.Dataset.from_tensor_slices(r_golbeck['clean_tweet']).batch(128)\n",
    "vectorizer.adapt(tweets)\n",
    "\n",
    "#Each token in a given tweet is indexed by the vectorizer and then right-padded with zeros up to length 60\n",
    "vectorizer([[\"this is a sample tweet\"]]).numpy()"
   ]
  },
  {
   "cell_type": "code",
   "execution_count": 17,
   "id": "invalid-yahoo",
   "metadata": {},
   "outputs": [],
   "source": [
    "#Download and Unzip GloVe and FastText embeddings\n",
    "!curl -LO http://nlp.stanford.edu/data/glove.twitter.27B.zip\n",
    "!unzip -q glove.twitter.27B.zip\n",
    "\n",
    "!curl -LO https://dl.fbaipublicfiles.com/fasttext/vectors-english/crawl-300d-2M.vec.zip\n",
    "!unzip -q crawl-300d-2M.vec.zip"
   ]
  },
  {
   "cell_type": "code",
   "execution_count": 27,
   "id": "organizational-grove",
   "metadata": {},
   "outputs": [
    {
     "name": "stdout",
     "output_type": "stream",
     "text": [
      "Found 1193514 word vectors in GloVe\n",
      "Converted 15438 words (4562 misses)\n",
      "Found 1999996 word vectors in fastText\n",
      "Converted 15606 words (4394 misses)\n"
     ]
    }
   ],
   "source": [
    "path_to_glove_file = \"glove.twitter.27B.100d.txt\"\n",
    "path_to_ft_file = \"crawl-300d-2M.vec\"\n",
    "\n",
    "vocab = vectorizer.get_vocabulary()\n",
    "word_index = dict(zip(vocab, range(len(vocab))))\n",
    "\n",
    "def build_embedding(path, name, embedding_dim):\n",
    "  # Create dictionary mapping each word to its embedding vector\n",
    "    embeddings_index = {}\n",
    "    with open(path) as f:\n",
    "        for line in f:\n",
    "            word, coefs = line.split(maxsplit=1)\n",
    "            coefs = np.fromstring(coefs, \"float\", sep=\" \")\n",
    "            embeddings_index[word] = coefs\n",
    "    print(\"Found {} word vectors in {}\".format(len(embeddings_index), name))\n",
    "\n",
    "    hits = 0\n",
    "    misses = 0\n",
    "    miss_list = []\n",
    "\n",
    "  # Prepare embedding matrix\n",
    "    embedding_matrix = np.zeros((20000, embedding_dim))\n",
    "    for word, index in word_index.items():\n",
    "        embedding_vector = embeddings_index.get(word)\n",
    "        if embedding_vector is not None:\n",
    "          # Words not found in embedding index will be all-zeros.\n",
    "          # This includes the representation for \"padding\" and \"OOV\"\n",
    "            embedding_matrix[index] = embedding_vector\n",
    "            hits += 1\n",
    "        else:\n",
    "            misses += 1\n",
    "            miss_list.append(word)\n",
    "    print(\"Converted %d words (%d misses)\" % (hits, misses))\n",
    "    return embedding_matrix\n",
    "\n",
    "#Create embeddings for both GloVe (100D) and FastText (300D)\n",
    "glove_embedding = build_embedding(path_to_glove_file, 'GloVe', 100)\n",
    "ft_embedding = build_embedding(path_to_ft_file, 'fastText', 300)"
   ]
  },
  {
   "cell_type": "code",
   "execution_count": 28,
   "id": "numerical-middle",
   "metadata": {},
   "outputs": [],
   "source": [
    "#Get list of tokens for dimension reduction visualization\n",
    "words20k = [w for w in word_index.keys()]"
   ]
  },
  {
   "cell_type": "markdown",
   "id": "genetic-matrix",
   "metadata": {},
   "source": [
    "## Save Data for Later Re-Importing"
   ]
  },
  {
   "cell_type": "code",
   "execution_count": 29,
   "id": "literary-print",
   "metadata": {},
   "outputs": [],
   "source": [
    "#After saving, I then upload all of these data objects to Google Drive for use in Colab notebook\n",
    "np.save('embedding100.npy', glove_embedding)\n",
    "np.save('fasttext300.npy', ft_embedding)\n",
    "np.save('words20k.npy', words20k)\n",
    "r_golbeck.to_csv('c_golbeck.csv')"
   ]
  }
 ],
 "metadata": {
  "kernelspec": {
   "display_name": "Python 3",
   "language": "python",
   "name": "python3"
  },
  "language_info": {
   "codemirror_mode": {
    "name": "ipython",
    "version": 3
   },
   "file_extension": ".py",
   "mimetype": "text/x-python",
   "name": "python",
   "nbconvert_exporter": "python",
   "pygments_lexer": "ipython3",
   "version": "3.8.2"
  }
 },
 "nbformat": 4,
 "nbformat_minor": 5
}